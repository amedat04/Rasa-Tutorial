{
 "cells": [
  {
   "cell_type": "markdown",
   "metadata": {},
   "source": [
    "## Intro\n",
    "---\n",
    "\n",
    "Rasa is an open source machine learning framework for building contextual AI assistants and chatbots.\n",
    "\n",
    "Rasa has two main modules:\n",
    "\n",
    "**NLU** for understanding user messages in natural language and extracting useful information from the text\n",
    "\n",
    "**Core** for holding conversations and deciding what to do next\n",
    "\n",
    "**Rasa X** is a tool that is designed for production use that helps you build, improve, and deploy AI assistants that are powered by the Rasa framework. Rasa X comes with both a user interface as well as a REST API that allows you to integrate it into your development workflow."
   ]
  },
  {
   "cell_type": "markdown",
   "metadata": {},
   "source": [
    "## Setup and installation\n",
    "\n",
    "There are two ways Rasa can be installed:\n",
    "1. Installing from pip\n",
    "2. Installing from github"
   ]
  },
  {
   "cell_type": "code",
   "execution_count": 8,
   "metadata": {},
   "outputs": [],
   "source": [
    "# ##Installing using pip\n",
    "!pip install rasa"
   ]
  },
  {
   "cell_type": "code",
   "execution_count": 9,
   "metadata": {},
   "outputs": [],
   "source": [
    "#Installing from github\n",
    "git clone https://github.com/RasaHQ/rasa.git\n",
    "cd rasa\n",
    "pip install -r requirements.txt\n",
    "pip install -e ."
   ]
  },
  {
   "cell_type": "markdown",
   "metadata": {},
   "source": [
    "### Installing the Dependencies:\n",
    " Sometimes you might face some dependency issue for NLU components, so to makes sure everything is working fine, run the below commands\n",
    " "
   ]
  },
  {
   "cell_type": "code",
   "execution_count": 10,
   "metadata": {},
   "outputs": [],
   "source": [
    "pip install rasa[spacy]\n",
    "python -m spacy download en_core_web_md\n",
    "python -m spacy link en_core_web_md en"
   ]
  },
  {
   "cell_type": "markdown",
   "metadata": {},
   "source": [
    "Throughout this workshop, we will use only open source tools. The code block below checks if Rasa have been installed suffessfully."
   ]
  },
  {
   "cell_type": "code",
   "execution_count": 1,
   "metadata": {},
   "outputs": [
    {
     "name": "stdout",
     "output_type": "stream",
     "text": [
      "Rasa 1.2.5\n"
     ]
    }
   ],
   "source": [
    "import rasa\n",
    "import warnings\n",
    "warnings.filterwarnings('ignore')\n",
    "\n",
    "\n",
    "print(\"Rasa {}\".format(rasa.__version__))"
   ]
  },
  {
   "cell_type": "markdown",
   "metadata": {},
   "source": [
    "Running asynchronous Rasa code in Jupyter Notebooks requires an extra requirement, since Jupyter Notebooks already run on event loops.\n",
    "\n",
    "Install this requirement in the command line before launching jupyter:"
   ]
  },
  {
   "cell_type": "code",
   "execution_count": 5,
   "metadata": {},
   "outputs": [],
   "source": [
    "!pip install nest_asyncio"
   ]
  },
  {
   "cell_type": "markdown",
   "metadata": {},
   "source": [
    "Congrats !!! You have succesfully installed Rasa on your system, In the next part, we will explore the Rasa NLU"
   ]
  },
  {
   "cell_type": "code",
   "execution_count": null,
   "metadata": {},
   "outputs": [],
   "source": []
  }
 ],
 "metadata": {
  "kernelspec": {
   "display_name": "Python 3",
   "language": "python",
   "name": "python3"
  },
  "language_info": {
   "codemirror_mode": {
    "name": "ipython",
    "version": 3
   },
   "file_extension": ".py",
   "mimetype": "text/x-python",
   "name": "python",
   "nbconvert_exporter": "python",
   "pygments_lexer": "ipython3",
   "version": "3.6.5"
  }
 },
 "nbformat": 4,
 "nbformat_minor": 2
}
